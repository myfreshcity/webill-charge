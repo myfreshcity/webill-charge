{
 "cells": [
  {
   "cell_type": "code",
   "execution_count": 1,
   "metadata": {},
   "outputs": [],
   "source": [
    "import os, sys\n",
    "import os,http\n",
    "import requests\n",
    "from flask import Flask, render_template, abort, url_for, session\n",
    "from flask_sqlalchemy import SQLAlchemy\n",
    "from flask_script import Manager, Shell\n",
    "from app import create_app,db\n",
    "from app.models import *\n",
    "from app.main.match_engine import *\n",
    "from app.main.table_data_server import *\n",
    "from app.main.db_service import *\n",
    "\n",
    "\n",
    "app=create_app(\"dev\")\n",
    "manager=Manager(app)\n",
    "\n",
    "app.log_format = '%(asctime)s %(funcName)s [%(levelname)s] %(message)s'\n",
    "app.debug = True\n",
    "\n",
    "ctx = app.app_context()\n",
    "ctx.push()"
   ]
  },
  {
   "cell_type": "code",
   "execution_count": null,
   "metadata": {},
   "outputs": [],
   "source": [
    "app.log_format = '%(asctime)s %(funcName)s [%(levelname)s] %(message)s'\n",
    "app.debug = True"
   ]
  },
  {
   "cell_type": "code",
   "execution_count": null,
   "metadata": {},
   "outputs": [],
   "source": [
    "from sqlalchemy.ext.declarative import DeclarativeMeta\n",
    "import json\n",
    "class AlchemyEncoder(json.JSONEncoder):\n",
    "    def default(self, obj):\n",
    "        if isinstance(obj.__class__, DeclarativeMeta):\n",
    "            # an SQLAlchemy class\n",
    "            fields = {}\n",
    "            for field in [x for x in dir(obj) if not x.startswith('_') and x != 'metadata']:\n",
    "                data = obj.__getattribute__(field)\n",
    "                try:\n",
    "                    json.dumps(data) # this will fail on non-encodable values, like other classes\n",
    "                    fields[field] = data\n",
    "                except TypeError:\n",
    "                    fields[field] = None\n",
    "            # a json-encodable dict\n",
    "            return fields\n",
    "\n",
    "        return json.JSONEncoder.default(self, obj)"
   ]
  },
  {
   "cell_type": "code",
   "execution_count": null,
   "metadata": {},
   "outputs": [],
   "source": [
    "\n"
   ]
  },
  {
   "cell_type": "code",
   "execution_count": null,
   "metadata": {},
   "outputs": [],
   "source": [
    "contract = Contract.query.filter(Contract.id == '677').first()\n",
    "json.dumps(contract, cls=AlchemyEncoder)"
   ]
  },
  {
   "cell_type": "code",
   "execution_count": null,
   "metadata": {},
   "outputs": [],
   "source": [
    "tplans = get_refund_plan(450)\n",
    "contract = Contract.query.filter(Contract.id == 450).first()\n",
    "fit = get_future_interest(contract,tplans)"
   ]
  },
  {
   "cell_type": "code",
   "execution_count": null,
   "metadata": {},
   "outputs": [],
   "source": [
    "i = 0\n",
    "for plan in tplans:\n",
    "    offV = plan.amt + plan.fee - plan.actual_amt - plan.actual_fee\n",
    "    i += offV\n"
   ]
  },
  {
   "cell_type": "code",
   "execution_count": null,
   "metadata": {},
   "outputs": [],
   "source": [
    "('减免额度不足，至少需要[%s]' % math.ceil((i-fit) / 100))"
   ]
  },
  {
   "cell_type": "code",
   "execution_count": null,
   "metadata": {},
   "outputs": [],
   "source": [
    "fit"
   ]
  },
  {
   "cell_type": "code",
   "execution_count": null,
   "metadata": {},
   "outputs": [],
   "source": [
    "fit+21000"
   ]
  },
  {
   "cell_type": "code",
   "execution_count": 2,
   "metadata": {},
   "outputs": [
    {
     "name": "stderr",
     "output_type": "stream",
     "text": [
      "--------------------------------------------------------------------------------\n",
      "INFO in match_engine [/Users/newcity/PycharmProjects/webill-charge/app/main/match_engine.py:174]:\n",
      "---还款流水[6019] 冲账开始---\n",
      "--------------------------------------------------------------------------------\n",
      "--------------------------------------------------------------------------------\n",
      "INFO in match_engine [/Users/newcity/PycharmProjects/webill-charge/app/main/match_engine.py:195]:\n",
      "还款流水[6019]余额:240000开始冲账...\n",
      "--------------------------------------------------------------------------------\n",
      "--------------------------------------------------------------------------------\n",
      "INFO in match_engine [/Users/newcity/PycharmProjects/webill-charge/app/main/match_engine.py:131]:\n",
      "---合同[450] 冲账开始---\n",
      "--------------------------------------------------------------------------------\n",
      "--------------------------------------------------------------------------------\n",
      "INFO in match_engine [/Users/newcity/PycharmProjects/webill-charge/app/main/match_engine.py:19]:\n",
      "使用真实还款流水[6019]开始冲账,余额:240000\n",
      "--------------------------------------------------------------------------------\n",
      "--------------------------------------------------------------------------------\n",
      "INFO in match_engine [/Users/newcity/PycharmProjects/webill-charge/app/main/match_engine.py:49]:\n",
      "还款流水[6019]冲还款计划[5569]本息:61000,流水余额:179000,本息余额:0\n",
      "--------------------------------------------------------------------------------\n",
      "--------------------------------------------------------------------------------\n",
      "INFO in match_engine [/Users/newcity/PycharmProjects/webill-charge/app/main/match_engine.py:49]:\n",
      "还款流水[6019]冲还款计划[5570]本息:61000,流水余额:118000,本息余额:0\n",
      "--------------------------------------------------------------------------------\n",
      "--------------------------------------------------------------------------------\n",
      "INFO in match_engine [/Users/newcity/PycharmProjects/webill-charge/app/main/match_engine.py:49]:\n",
      "还款流水[6019]冲还款计划[5571]本息:61000,流水余额:57000,本息余额:0\n",
      "--------------------------------------------------------------------------------\n",
      "--------------------------------------------------------------------------------\n",
      "INFO in match_engine [/Users/newcity/PycharmProjects/webill-charge/app/main/match_engine.py:49]:\n",
      "还款流水[6019]冲还款计划[5572]本息:57000,流水余额:0,本息余额:4000\n",
      "--------------------------------------------------------------------------------\n",
      "--------------------------------------------------------------------------------\n",
      "INFO in match_engine [/Users/newcity/PycharmProjects/webill-charge/app/main/match_engine.py:98]:\n",
      "从减免计划[43]获得减免额[21000]使用给贷款合同[450]\n",
      "--------------------------------------------------------------------------------\n",
      "--------------------------------------------------------------------------------\n",
      "DEBUG in match_engine [/Users/newcity/PycharmProjects/webill-charge/app/main/match_engine.py:71]:\n",
      "reduce_amt:21000,fit:105000.0\n",
      "--------------------------------------------------------------------------------\n",
      "--------------------------------------------------------------------------------\n",
      "INFO in match_engine [/Users/newcity/PycharmProjects/webill-charge/app/main/match_engine.py:107]:\n",
      "还款计划[5569]已结清\n",
      "--------------------------------------------------------------------------------\n",
      "--------------------------------------------------------------------------------\n",
      "INFO in match_engine [/Users/newcity/PycharmProjects/webill-charge/app/main/match_engine.py:107]:\n",
      "还款计划[5570]已结清\n",
      "--------------------------------------------------------------------------------\n",
      "--------------------------------------------------------------------------------\n",
      "INFO in match_engine [/Users/newcity/PycharmProjects/webill-charge/app/main/match_engine.py:107]:\n",
      "还款计划[5571]已结清\n",
      "--------------------------------------------------------------------------------\n",
      "--------------------------------------------------------------------------------\n",
      "INFO in match_engine [/Users/newcity/PycharmProjects/webill-charge/app/main/match_engine.py:107]:\n",
      "还款计划[5572]已结清\n",
      "--------------------------------------------------------------------------------\n",
      "--------------------------------------------------------------------------------\n",
      "INFO in match_engine [/Users/newcity/PycharmProjects/webill-charge/app/main/match_engine.py:107]:\n",
      "还款计划[5573]已结清\n",
      "--------------------------------------------------------------------------------\n",
      "--------------------------------------------------------------------------------\n",
      "INFO in match_engine [/Users/newcity/PycharmProjects/webill-charge/app/main/match_engine.py:107]:\n",
      "还款计划[5574]已结清\n",
      "--------------------------------------------------------------------------------\n",
      "--------------------------------------------------------------------------------\n",
      "INFO in db_service [/Users/newcity/PycharmProjects/webill-charge/app/main/db_service.py:137]:\n",
      "贷款合同[450]已结清\n",
      "--------------------------------------------------------------------------------\n",
      "--------------------------------------------------------------------------------\n",
      "INFO in match_engine [/Users/newcity/PycharmProjects/webill-charge/app/main/match_engine.py:169]:\n",
      "---合同[450] 冲账结束---\n",
      "--------------------------------------------------------------------------------\n"
     ]
    }
   ],
   "source": [
    "refund = Repayment.query.filter(Repayment.id==6019).one()\n",
    "engine = MatchEngine()\n",
    "engine.match_by_refund(refund)"
   ]
  },
  {
   "cell_type": "code",
   "execution_count": 3,
   "metadata": {},
   "outputs": [
    {
     "data": {
      "text/plain": [
       "3047"
      ]
     },
     "execution_count": 3,
     "metadata": {},
     "output_type": "execute_result"
    }
   ],
   "source": [
    "610*5-3"
   ]
  },
  {
   "cell_type": "code",
   "execution_count": 4,
   "metadata": {},
   "outputs": [
    {
     "data": {
      "text/plain": [
       "5853.333333333334"
      ]
     },
     "execution_count": 4,
     "metadata": {},
     "output_type": "execute_result"
    }
   ],
   "source": [
    "(7000/15)*11+720"
   ]
  },
  {
   "cell_type": "code",
   "execution_count": 5,
   "metadata": {},
   "outputs": [
    {
     "data": {
      "text/plain": [
       "6106.666666666667"
      ]
     },
     "execution_count": 5,
     "metadata": {},
     "output_type": "execute_result"
    }
   ],
   "source": [
    "(7000/15)*10+1440"
   ]
  },
  {
   "cell_type": "code",
   "execution_count": 6,
   "metadata": {},
   "outputs": [
    {
     "data": {
      "text/plain": [
       "4297644416"
      ]
     },
     "execution_count": 6,
     "metadata": {},
     "output_type": "execute_result"
    }
   ],
   "source": [
    "id(1)"
   ]
  },
  {
   "cell_type": "code",
   "execution_count": 15,
   "metadata": {},
   "outputs": [
    {
     "data": {
      "text/plain": [
       "4297644448"
      ]
     },
     "execution_count": 15,
     "metadata": {},
     "output_type": "execute_result"
    }
   ],
   "source": [
    "a = 1\n",
    "b = a\n",
    "a= a+1\n",
    "id(a)"
   ]
  },
  {
   "cell_type": "code",
   "execution_count": 17,
   "metadata": {},
   "outputs": [
    {
     "data": {
      "text/plain": [
       "4297644416"
      ]
     },
     "execution_count": 17,
     "metadata": {},
     "output_type": "execute_result"
    }
   ],
   "source": [
    "\n",
    "id(b)"
   ]
  },
  {
   "cell_type": "code",
   "execution_count": 4,
   "metadata": {},
   "outputs": [
    {
     "data": {
      "text/plain": [
       "1510.0"
      ]
     },
     "execution_count": 4,
     "metadata": {},
     "output_type": "execute_result"
    }
   ],
   "source": [
    "(5000/15)*3+510"
   ]
  },
  {
   "cell_type": "code",
   "execution_count": 5,
   "metadata": {},
   "outputs": [
    {
     "data": {
      "text/plain": [
       "1333.3333333333333"
      ]
     },
     "execution_count": 5,
     "metadata": {},
     "output_type": "execute_result"
    }
   ],
   "source": [
    "(5000/15)*4"
   ]
  },
  {
   "cell_type": "code",
   "execution_count": null,
   "metadata": {},
   "outputs": [],
   "source": []
  }
 ],
 "metadata": {
  "kernelspec": {
   "display_name": "Python 3",
   "language": "python",
   "name": "python3"
  },
  "language_info": {
   "codemirror_mode": {
    "name": "ipython",
    "version": 3
   },
   "file_extension": ".py",
   "mimetype": "text/x-python",
   "name": "python",
   "nbconvert_exporter": "python",
   "pygments_lexer": "ipython3",
   "version": "3.6.5"
  }
 },
 "nbformat": 4,
 "nbformat_minor": 1
}
