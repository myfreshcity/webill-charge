{
 "cells": [
  {
   "cell_type": "code",
   "execution_count": 1,
   "metadata": {},
   "outputs": [],
   "source": [
    "import os, sys\n",
    "import os,http\n",
    "import requests\n",
    "from flask import Flask, render_template, abort, url_for, session\n",
    "from flask_sqlalchemy import SQLAlchemy\n",
    "from flask_script import Manager, Shell\n",
    "from app import create_app,db\n",
    "\n",
    "\n",
    "app=create_app(\"dev\")\n",
    "manager=Manager(app)\n",
    "\n",
    "ctx = app.app_context()\n",
    "ctx.push()"
   ]
  },
  {
   "cell_type": "code",
   "execution_count": 2,
   "metadata": {},
   "outputs": [],
   "source": [
    "from app.main.sqlhelper import *\n",
    "from app.models import *"
   ]
  },
  {
   "cell_type": "code",
   "execution_count": 3,
   "metadata": {},
   "outputs": [
    {
     "data": {
      "text/plain": [
       "({'id': 41,\n",
       "  'contract_id': 21,\n",
       "  'deadline': datetime.datetime(2018, 3, 30, 0, 0)},\n",
       " {'id': 42,\n",
       "  'contract_id': 21,\n",
       "  'deadline': datetime.datetime(2018, 3, 31, 0, 0)},\n",
       " {'id': 43,\n",
       "  'contract_id': 22,\n",
       "  'deadline': datetime.datetime(2018, 3, 21, 0, 0)},\n",
       " {'id': 44,\n",
       "  'contract_id': 22,\n",
       "  'deadline': datetime.datetime(2018, 3, 31, 0, 0)},\n",
       " {'id': 45,\n",
       "  'contract_id': 23,\n",
       "  'deadline': datetime.datetime(2018, 3, 21, 0, 0)},\n",
       " {'id': 46,\n",
       "  'contract_id': 23,\n",
       "  'deadline': datetime.datetime(2018, 4, 1, 0, 0)},\n",
       " {'id': 47,\n",
       "  'contract_id': 24,\n",
       "  'deadline': datetime.datetime(2018, 3, 21, 0, 0)},\n",
       " {'id': 48,\n",
       "  'contract_id': 24,\n",
       "  'deadline': datetime.datetime(2018, 4, 2, 0, 0)},\n",
       " {'id': 49,\n",
       "  'contract_id': 25,\n",
       "  'deadline': datetime.datetime(2018, 3, 11, 0, 0)},\n",
       " {'id': 50,\n",
       "  'contract_id': 25,\n",
       "  'deadline': datetime.datetime(2018, 3, 13, 0, 0)},\n",
       " {'id': 51,\n",
       "  'contract_id': 25,\n",
       "  'deadline': datetime.datetime(2018, 3, 15, 0, 0)})"
      ]
     },
     "execution_count": 3,
     "metadata": {},
     "output_type": "execute_result"
    }
   ],
   "source": [
    "get_delay_refund()"
   ]
  },
  {
   "cell_type": "code",
   "execution_count": 4,
   "metadata": {},
   "outputs": [],
   "source": [
    "#滞纳金算法\n",
    "def countFee(contractAmt,delayDay):\n",
    "    if contractAmt >= 10000:\n",
    "        return delayDay*200\n",
    "    else:\n",
    "        return delayDay*100"
   ]
  },
  {
   "cell_type": "code",
   "execution_count": 9,
   "metadata": {},
   "outputs": [],
   "source": [
    "refunds = get_delay_refund()\n",
    "if refunds:\n",
    "    for refund in refunds:\n",
    "        pid = refund['id']\n",
    "        contract_id = refund['contract_id']\n",
    "        contract = Contract.query.filter(Contract.id == contract_id).first()\n",
    "        contractAmt = contract.contract_amount #合同额\n",
    "        now = datetime.datetime.now()\n",
    "        delayDay = (now-refund['deadline']).days+1 #逾期天数\n",
    "        fee = countFee(contractAmt,delayDay)\n",
    "        #print(contract_id,pid,delayDay,fee)\n",
    "        update_plan_fee(fee,delayDay, pid)"
   ]
  },
  {
   "cell_type": "code",
   "execution_count": null,
   "metadata": {},
   "outputs": [],
   "source": [
    "find_contractsby_id(['23'])"
   ]
  },
  {
   "cell_type": "code",
   "execution_count": null,
   "metadata": {},
   "outputs": [],
   "source": []
  }
 ],
 "metadata": {
  "kernelspec": {
   "display_name": "Python 3",
   "language": "python",
   "name": "python3"
  },
  "language_info": {
   "codemirror_mode": {
    "name": "ipython",
    "version": 3
   },
   "file_extension": ".py",
   "mimetype": "text/x-python",
   "name": "python",
   "nbconvert_exporter": "python",
   "pygments_lexer": "ipython3",
   "version": "3.6.5"
  }
 },
 "nbformat": 4,
 "nbformat_minor": 2
}
