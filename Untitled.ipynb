{
 "cells": [
  {
   "cell_type": "code",
   "execution_count": 1,
   "metadata": {},
   "outputs": [
    {
     "name": "stderr",
     "output_type": "stream",
     "text": [
      "--------------------------------------------------------------------------------\n",
      "INFO in __init__ [/Users/newcity/PycharmProjects/webill-charge/app/__init__.py:46]:\n",
      "begin run application ...\n",
      "--------------------------------------------------------------------------------\n"
     ]
    }
   ],
   "source": [
    "import os, sys\n",
    "import os,http\n",
    "import requests\n",
    "from flask import Flask, render_template, abort, url_for, session\n",
    "from flask_sqlalchemy import SQLAlchemy\n",
    "from flask_script import Manager, Shell\n",
    "from app import create_app,db\n",
    "from app.main.sqlhelper import *\n",
    "from app.models import *\n",
    "from app.main.match_engine import *\n",
    "from app.main.table_data_server import *\n",
    "\n",
    "\n",
    "app=create_app(\"dev\")\n",
    "manager=Manager(app)\n",
    "\n",
    "app.log_format = '%(asctime)s %(funcName)s [%(levelname)s] %(message)s'\n",
    "app.debug = True\n",
    "\n",
    "ctx = app.app_context()\n",
    "ctx.push()"
   ]
  },
  {
   "cell_type": "code",
   "execution_count": null,
   "metadata": {},
   "outputs": [],
   "source": [
    "app.log_format = '%(asctime)s %(funcName)s [%(levelname)s] %(message)s'\n",
    "app.debug = True"
   ]
  },
  {
   "cell_type": "code",
   "execution_count": null,
   "metadata": {},
   "outputs": [],
   "source": [
    "from sqlalchemy.ext.declarative import DeclarativeMeta\n",
    "import json\n",
    "class AlchemyEncoder(json.JSONEncoder):\n",
    "    def default(self, obj):\n",
    "        if isinstance(obj.__class__, DeclarativeMeta):\n",
    "            # an SQLAlchemy class\n",
    "            fields = {}\n",
    "            for field in [x for x in dir(obj) if not x.startswith('_') and x != 'metadata']:\n",
    "                data = obj.__getattribute__(field)\n",
    "                try:\n",
    "                    json.dumps(data) # this will fail on non-encodable values, like other classes\n",
    "                    fields[field] = data\n",
    "                except TypeError:\n",
    "                    fields[field] = None\n",
    "            # a json-encodable dict\n",
    "            return fields\n",
    "\n",
    "        return json.JSONEncoder.default(self, obj)"
   ]
  },
  {
   "cell_type": "code",
   "execution_count": null,
   "metadata": {},
   "outputs": [],
   "source": []
  },
  {
   "cell_type": "code",
   "execution_count": null,
   "metadata": {},
   "outputs": [],
   "source": [
    "contract = Contract.query.filter(Contract.id=='25').first()\n",
    "plan = tRefundPlan.query.filter(tRefundPlan.id=='49').first()\n",
    "plan2 = tRefundPlan.query.filter(tRefundPlan.id=='50').first()\n",
    "plan3 = tRefundPlan.query.filter(tRefundPlan.id=='51').first()\n",
    "refund = Refund.query.filter(Refund.id=='103').first()\n",
    "\n",
    "app.logger.info(json.dumps(contract, cls=AlchemyEncoder))\n",
    "app.logger.info(json.dumps(plan, cls=AlchemyEncoder))\n",
    "app.logger.info(json.dumps(plan2, cls=AlchemyEncoder))\n",
    "app.logger.info(json.dumps(plan3, cls=AlchemyEncoder))\n",
    "app.logger.info(json.dumps(refund, cls=AlchemyEncoder) )"
   ]
  },
  {
   "cell_type": "code",
   "execution_count": null,
   "metadata": {},
   "outputs": [],
   "source": [
    "\n",
    "#重置合同状态\n",
    "contract.is_settled = 0\n",
    "#重置还款计划\n",
    "plan.is_settled = 0\n",
    "plan.amt = 5000\n",
    "plan.fee = 5000\n",
    "plan.delay_day=20\n",
    "\n",
    "plan.actual_amt=0\n",
    "plan.actual_fee = 0\n",
    "#重置还款流水\n",
    "refund.remain_amt = 100\n",
    "\n",
    "plan2.is_settled = 0\n",
    "plan2.actual_amt=0\n",
    "plan3.is_settled = 0\n",
    "plan3.actual_amt=0\n"
   ]
  },
  {
   "cell_type": "code",
   "execution_count": null,
   "metadata": {},
   "outputs": [],
   "source": [
    "refund.remain_amt = 500"
   ]
  },
  {
   "cell_type": "code",
   "execution_count": null,
   "metadata": {},
   "outputs": [],
   "source": []
  },
  {
   "cell_type": "code",
   "execution_count": 8,
   "metadata": {},
   "outputs": [],
   "source": [
    "\n",
    "now = datetime.datetime.now()"
   ]
  },
  {
   "cell_type": "code",
   "execution_count": null,
   "metadata": {},
   "outputs": [],
   "source": []
  },
  {
   "cell_type": "code",
   "execution_count": 20,
   "metadata": {},
   "outputs": [
    {
     "ename": "InvalidRequestError",
     "evalue": "This Session's transaction has been rolled back due to a previous exception during flush. To begin a new transaction with this Session, first issue Session.rollback(). Original exception was: (pymysql.err.IntegrityError) (1048, \"Column 'contract_id' cannot be null\") [SQL: 'INSERT INTO contract_repay (contract_id, deadline, file_id, tensor, delay_day, amt, fee, actual_amt, actual_fee, principal, interest, is_settled, settled_date, settled_by_commit) VALUES (%(contract_id)s, %(deadline)s, %(file_id)s, %(tensor)s, %(delay_day)s, %(amt)s, %(fee)s, %(actual_amt)s, %(actual_fee)s, %(principal)s, %(interest)s, %(is_settled)s, %(settled_date)s, %(settled_by_commit)s)'] [parameters: {'contract_id': None, 'deadline': datetime.datetime(2018, 4, 15, 22, 56, 5, 357709), 'file_id': None, 'tensor': 0, 'delay_day': 0, 'amt': 0, 'fee': 0, 'actual_amt': 0, 'actual_fee': 0, 'principal': 0, 'interest': 0, 'is_settled': 0, 'settled_date': None, 'settled_by_commit': None}]",
     "output_type": "error",
     "traceback": [
      "\u001b[0;31m---------------------------------------------------------------------------\u001b[0m",
      "\u001b[0;31mInvalidRequestError\u001b[0m                       Traceback (most recent call last)",
      "\u001b[0;32m<ipython-input-20-ceb0726597fa>\u001b[0m in \u001b[0;36m<module>\u001b[0;34m()\u001b[0m\n\u001b[1;32m      4\u001b[0m \u001b[0mdb\u001b[0m\u001b[0;34m.\u001b[0m\u001b[0msession\u001b[0m\u001b[0;34m.\u001b[0m\u001b[0madd\u001b[0m\u001b[0;34m(\u001b[0m\u001b[0mcontract\u001b[0m\u001b[0;34m)\u001b[0m\u001b[0;34m\u001b[0m\u001b[0m\n\u001b[1;32m      5\u001b[0m \u001b[0;34m\u001b[0m\u001b[0m\n\u001b[0;32m----> 6\u001b[0;31m \u001b[0mdb\u001b[0m\u001b[0;34m.\u001b[0m\u001b[0msession\u001b[0m\u001b[0;34m.\u001b[0m\u001b[0mflush\u001b[0m\u001b[0;34m(\u001b[0m\u001b[0;34m)\u001b[0m\u001b[0;34m\u001b[0m\u001b[0m\n\u001b[0m\u001b[1;32m      7\u001b[0m \u001b[0mplan\u001b[0m \u001b[0;34m=\u001b[0m \u001b[0mContractRepay\u001b[0m\u001b[0;34m(\u001b[0m\u001b[0;34m)\u001b[0m\u001b[0;34m\u001b[0m\u001b[0m\n\u001b[1;32m      8\u001b[0m \u001b[0;34m\u001b[0m\u001b[0m\n",
      "\u001b[0;32m~/PycharmProjects/webill-charge/venv/lib/python3.6/site-packages/sqlalchemy/orm/scoping.py\u001b[0m in \u001b[0;36mdo\u001b[0;34m(self, *args, **kwargs)\u001b[0m\n\u001b[1;32m    155\u001b[0m \u001b[0;32mdef\u001b[0m \u001b[0minstrument\u001b[0m\u001b[0;34m(\u001b[0m\u001b[0mname\u001b[0m\u001b[0;34m)\u001b[0m\u001b[0;34m:\u001b[0m\u001b[0;34m\u001b[0m\u001b[0m\n\u001b[1;32m    156\u001b[0m     \u001b[0;32mdef\u001b[0m \u001b[0mdo\u001b[0m\u001b[0;34m(\u001b[0m\u001b[0mself\u001b[0m\u001b[0;34m,\u001b[0m \u001b[0;34m*\u001b[0m\u001b[0margs\u001b[0m\u001b[0;34m,\u001b[0m \u001b[0;34m**\u001b[0m\u001b[0mkwargs\u001b[0m\u001b[0;34m)\u001b[0m\u001b[0;34m:\u001b[0m\u001b[0;34m\u001b[0m\u001b[0m\n\u001b[0;32m--> 157\u001b[0;31m         \u001b[0;32mreturn\u001b[0m \u001b[0mgetattr\u001b[0m\u001b[0;34m(\u001b[0m\u001b[0mself\u001b[0m\u001b[0;34m.\u001b[0m\u001b[0mregistry\u001b[0m\u001b[0;34m(\u001b[0m\u001b[0;34m)\u001b[0m\u001b[0;34m,\u001b[0m \u001b[0mname\u001b[0m\u001b[0;34m)\u001b[0m\u001b[0;34m(\u001b[0m\u001b[0;34m*\u001b[0m\u001b[0margs\u001b[0m\u001b[0;34m,\u001b[0m \u001b[0;34m**\u001b[0m\u001b[0mkwargs\u001b[0m\u001b[0;34m)\u001b[0m\u001b[0;34m\u001b[0m\u001b[0m\n\u001b[0m\u001b[1;32m    158\u001b[0m     \u001b[0;32mreturn\u001b[0m \u001b[0mdo\u001b[0m\u001b[0;34m\u001b[0m\u001b[0m\n\u001b[1;32m    159\u001b[0m \u001b[0;34m\u001b[0m\u001b[0m\n",
      "\u001b[0;32m~/PycharmProjects/webill-charge/venv/lib/python3.6/site-packages/sqlalchemy/orm/session.py\u001b[0m in \u001b[0;36mflush\u001b[0;34m(self, objects)\u001b[0m\n\u001b[1;32m   2190\u001b[0m         \u001b[0;32mtry\u001b[0m\u001b[0;34m:\u001b[0m\u001b[0;34m\u001b[0m\u001b[0m\n\u001b[1;32m   2191\u001b[0m             \u001b[0mself\u001b[0m\u001b[0;34m.\u001b[0m\u001b[0m_flushing\u001b[0m \u001b[0;34m=\u001b[0m \u001b[0;32mTrue\u001b[0m\u001b[0;34m\u001b[0m\u001b[0m\n\u001b[0;32m-> 2192\u001b[0;31m             \u001b[0mself\u001b[0m\u001b[0;34m.\u001b[0m\u001b[0m_flush\u001b[0m\u001b[0;34m(\u001b[0m\u001b[0mobjects\u001b[0m\u001b[0;34m)\u001b[0m\u001b[0;34m\u001b[0m\u001b[0m\n\u001b[0m\u001b[1;32m   2193\u001b[0m         \u001b[0;32mfinally\u001b[0m\u001b[0;34m:\u001b[0m\u001b[0;34m\u001b[0m\u001b[0m\n\u001b[1;32m   2194\u001b[0m             \u001b[0mself\u001b[0m\u001b[0;34m.\u001b[0m\u001b[0m_flushing\u001b[0m \u001b[0;34m=\u001b[0m \u001b[0;32mFalse\u001b[0m\u001b[0;34m\u001b[0m\u001b[0m\n",
      "\u001b[0;32m~/PycharmProjects/webill-charge/venv/lib/python3.6/site-packages/sqlalchemy/orm/session.py\u001b[0m in \u001b[0;36m_flush\u001b[0;34m(self, objects)\u001b[0m\n\u001b[1;32m   2270\u001b[0m \u001b[0;34m\u001b[0m\u001b[0m\n\u001b[1;32m   2271\u001b[0m         flush_context.transaction = transaction = self.begin(\n\u001b[0;32m-> 2272\u001b[0;31m             subtransactions=True)\n\u001b[0m\u001b[1;32m   2273\u001b[0m         \u001b[0;32mtry\u001b[0m\u001b[0;34m:\u001b[0m\u001b[0;34m\u001b[0m\u001b[0m\n\u001b[1;32m   2274\u001b[0m             \u001b[0mself\u001b[0m\u001b[0;34m.\u001b[0m\u001b[0m_warn_on_events\u001b[0m \u001b[0;34m=\u001b[0m \u001b[0;32mTrue\u001b[0m\u001b[0;34m\u001b[0m\u001b[0m\n",
      "\u001b[0;32m~/PycharmProjects/webill-charge/venv/lib/python3.6/site-packages/sqlalchemy/orm/session.py\u001b[0m in \u001b[0;36mbegin\u001b[0;34m(self, subtransactions, nested)\u001b[0m\n\u001b[1;32m    830\u001b[0m             \u001b[0;32mif\u001b[0m \u001b[0msubtransactions\u001b[0m \u001b[0;32mor\u001b[0m \u001b[0mnested\u001b[0m\u001b[0;34m:\u001b[0m\u001b[0;34m\u001b[0m\u001b[0m\n\u001b[1;32m    831\u001b[0m                 self.transaction = self.transaction._begin(\n\u001b[0;32m--> 832\u001b[0;31m                     nested=nested)\n\u001b[0m\u001b[1;32m    833\u001b[0m             \u001b[0;32melse\u001b[0m\u001b[0;34m:\u001b[0m\u001b[0;34m\u001b[0m\u001b[0m\n\u001b[1;32m    834\u001b[0m                 raise sa_exc.InvalidRequestError(\n",
      "\u001b[0;32m~/PycharmProjects/webill-charge/venv/lib/python3.6/site-packages/sqlalchemy/orm/session.py\u001b[0m in \u001b[0;36m_begin\u001b[0;34m(self, nested)\u001b[0m\n\u001b[1;32m    295\u001b[0m \u001b[0;34m\u001b[0m\u001b[0m\n\u001b[1;32m    296\u001b[0m     \u001b[0;32mdef\u001b[0m \u001b[0m_begin\u001b[0m\u001b[0;34m(\u001b[0m\u001b[0mself\u001b[0m\u001b[0;34m,\u001b[0m \u001b[0mnested\u001b[0m\u001b[0;34m=\u001b[0m\u001b[0;32mFalse\u001b[0m\u001b[0;34m)\u001b[0m\u001b[0;34m:\u001b[0m\u001b[0;34m\u001b[0m\u001b[0m\n\u001b[0;32m--> 297\u001b[0;31m         \u001b[0mself\u001b[0m\u001b[0;34m.\u001b[0m\u001b[0m_assert_active\u001b[0m\u001b[0;34m(\u001b[0m\u001b[0;34m)\u001b[0m\u001b[0;34m\u001b[0m\u001b[0m\n\u001b[0m\u001b[1;32m    298\u001b[0m         return SessionTransaction(\n\u001b[1;32m    299\u001b[0m             self.session, self, nested=nested)\n",
      "\u001b[0;32m~/PycharmProjects/webill-charge/venv/lib/python3.6/site-packages/sqlalchemy/orm/session.py\u001b[0m in \u001b[0;36m_assert_active\u001b[0;34m(self, prepared_ok, rollback_ok, deactive_ok, closed_msg)\u001b[0m\n\u001b[1;32m    274\u001b[0m                         \u001b[0;34m\"first issue Session.rollback().\"\u001b[0m\u001b[0;34m\u001b[0m\u001b[0m\n\u001b[1;32m    275\u001b[0m                         \u001b[0;34m\" Original exception was: %s\"\u001b[0m\u001b[0;34m\u001b[0m\u001b[0m\n\u001b[0;32m--> 276\u001b[0;31m                         \u001b[0;34m%\u001b[0m \u001b[0mself\u001b[0m\u001b[0;34m.\u001b[0m\u001b[0m_rollback_exception\u001b[0m\u001b[0;34m\u001b[0m\u001b[0m\n\u001b[0m\u001b[1;32m    277\u001b[0m                     )\n\u001b[1;32m    278\u001b[0m                 \u001b[0;32melif\u001b[0m \u001b[0;32mnot\u001b[0m \u001b[0mdeactive_ok\u001b[0m\u001b[0;34m:\u001b[0m\u001b[0;34m\u001b[0m\u001b[0m\n",
      "\u001b[0;31mInvalidRequestError\u001b[0m: This Session's transaction has been rolled back due to a previous exception during flush. To begin a new transaction with this Session, first issue Session.rollback(). Original exception was: (pymysql.err.IntegrityError) (1048, \"Column 'contract_id' cannot be null\") [SQL: 'INSERT INTO contract_repay (contract_id, deadline, file_id, tensor, delay_day, amt, fee, actual_amt, actual_fee, principal, interest, is_settled, settled_date, settled_by_commit) VALUES (%(contract_id)s, %(deadline)s, %(file_id)s, %(tensor)s, %(delay_day)s, %(amt)s, %(fee)s, %(actual_amt)s, %(actual_fee)s, %(principal)s, %(interest)s, %(is_settled)s, %(settled_date)s, %(settled_by_commit)s)'] [parameters: {'contract_id': None, 'deadline': datetime.datetime(2018, 4, 15, 22, 56, 5, 357709), 'file_id': None, 'tensor': 0, 'delay_day': 0, 'amt': 0, 'fee': 0, 'actual_amt': 0, 'actual_fee': 0, 'principal': 0, 'interest': 0, 'is_settled': 0, 'settled_date': None, 'settled_by_commit': None}]"
     ]
    }
   ],
   "source": [
    "contract = Contract()\n",
    "contract.contract_no = 'abc'\n",
    "\n",
    "db.session.add(contract)\n",
    "\n",
    "db.session.flush()\n",
    "plan = ContractRepay()\n",
    "\n",
    "plan.contract_id = contract.id\n",
    "plan.deadline = now\n",
    "db.session.add(plan)\n",
    "raise Exception(\"抛出一个异常\") \n",
    "\n",
    "db.session.commit()\n",
    "\n",
    "\n",
    "\n"
   ]
  },
  {
   "cell_type": "code",
   "execution_count": 21,
   "metadata": {},
   "outputs": [
    {
     "name": "stderr",
     "output_type": "stream",
     "text": [
      "/Users/newcity/PycharmProjects/webill-charge/venv/lib/python3.6/site-packages/sqlalchemy/orm/session.py:507: SAWarning: Session's state has been changed on a non-active transaction - this state will be discarded.\n",
      "  \"Session's state has been changed on \"\n"
     ]
    }
   ],
   "source": [
    "db.session.rollback()"
   ]
  },
  {
   "cell_type": "code",
   "execution_count": null,
   "metadata": {},
   "outputs": [],
   "source": [
    "contract.id"
   ]
  },
  {
   "cell_type": "code",
   "execution_count": null,
   "metadata": {},
   "outputs": [],
   "source": []
  }
 ],
 "metadata": {
  "kernelspec": {
   "display_name": "Python 3",
   "language": "python",
   "name": "python3"
  },
  "language_info": {
   "codemirror_mode": {
    "name": "ipython",
    "version": 3
   },
   "file_extension": ".py",
   "mimetype": "text/x-python",
   "name": "python",
   "nbconvert_exporter": "python",
   "pygments_lexer": "ipython3",
   "version": "3.6.5"
  }
 },
 "nbformat": 4,
 "nbformat_minor": 2
}
